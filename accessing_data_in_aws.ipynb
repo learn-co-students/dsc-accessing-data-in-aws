{
 "cells": [
  {
   "cell_type": "markdown",
   "metadata": {},
   "source": [
    "# Accessing data in AWS\n",
    "\n",
    "### Writing to S3 and reading things other than `csv`\n",
    "#### AKA, let's get coding\n",
    "\n",
    "**Objective**: to read and write to s3 from within sagemaker\n",
    "\n",
    "So, ways to interact with AWS through code:\n",
    "\n",
    "- [AWS CLI](https://aws.amazon.com/cli/) = Command Line Interface for AWS resources</br>\n",
    "- [Boto3](https://aws.amazon.com/sdk-for-python/) = Python SDK for AWS, SDK = software development kit ( [SDKs for other languages found here](https://aws.amazon.com/tools/) )</br>\n",
    "- [S3FS](https://s3fs.readthedocs.io/en/latest/) = S3 File system package, a wrap around for boto3's interaction with S3 to mimic how we interact with files on our computers."
   ]
  },
  {
   "cell_type": "markdown",
   "metadata": {},
   "source": [
    "<img src=\"./image/boto3.png\" alt=\"boto3\" style =\"text-align:center;width:500px;float:none\" ></br>\n",
    "<img src=\"./image/s3fs.png\" alt=\"s3fs\" style =\"text-align:center;width:250px;float:none\" ></br>"
   ]
  },
  {
   "cell_type": "markdown",
   "metadata": {},
   "source": [
    "### We are going to use S3FS\n",
    "\n",
    "Shortest path to getting things running, most familiar framework.</br>\n",
    "Are there advantages of the other tools? yes. We will not learn them here.\n"
   ]
  },
  {
   "cell_type": "markdown",
   "metadata": {},
   "source": [
    "S3FS creates a connection to your S3 file system, the same way sqlite creates a session, or other packages create a client. </br>\n",
    "`S3FileSystem()` will accept your credentials as arguments.</br>\n",
    "You can then use your familiar commands, like `ls`\n",
    "\n",
    "Before you can access your files in S3, need to set up your S3 credientials in S3FS, the documentation [here](https://s3fs.readthedocs.io/en/latest/api.html#s3fs.core.S3FileSystem) will help."
   ]
  },
  {
   "cell_type": "code",
   "execution_count": null,
   "metadata": {},
   "outputs": [],
   "source": [
    "import s3fs\n",
    "\n",
    "fs = s3fs.S3FileSystem() # specify your key and secret here\n",
    "\n",
    "\n",
    "# To List 5 files in your accessible bucket\n",
    "fs.ls('s3://flatiorn-chicago-bucket')"
   ]
  },
  {
   "cell_type": "markdown",
   "metadata": {},
   "source": [
    "### JSON & S3 from notebook\n",
    "Start with tiny one!\n",
    "\n",
    "`data = {\"HelloWorld\": []}`"
   ]
  },
  {
   "cell_type": "code",
   "execution_count": null,
   "metadata": {},
   "outputs": [],
   "source": [
    "import json\n",
    "import s3fs\n",
    "\n",
    "data = {\"HelloWorld\": []}\n",
    "\n",
    "fs = s3fs.S3FileSystem()\n",
    "with fs.open('flatiorn-chicago-bucket/tiny_file2.json', 'wb') as f:\n",
    "    user_encode_data = json.dumps(data).encode('utf-8')\n",
    "    f.write(user_encode_data)"
   ]
  },
  {
   "cell_type": "markdown",
   "metadata": {},
   "source": [
    "##### Read JSON in from S3 to Sagemaker environment"
   ]
  },
  {
   "cell_type": "code",
   "execution_count": null,
   "metadata": {},
   "outputs": [],
   "source": [
    "with fs.open('flatiorn-chicago-bucket/tiny_file2.json') as f:\n",
    "    f_json = f.read()\n",
    "    test_json = json.loads(f_json.decode('utf-8'))\n",
    "print(data)"
   ]
  },
  {
   "cell_type": "markdown",
   "metadata": {},
   "source": [
    "#### Let's get a real JSON\n",
    "\n",
    "Use `json`, `requests`, and `sf3s` libraries"
   ]
  },
  {
   "cell_type": "code",
   "execution_count": null,
   "metadata": {},
   "outputs": [],
   "source": [
    "import requests\n",
    "import json\n",
    "\n",
    "url = 'https://opendata.arcgis.com/datasets/14faf3d4bfbe4ca4a713bf203a985151_0.geojson'\n",
    "r = requests.get(url)\n",
    "cont = json.loads(r.content.decode())"
   ]
  },
  {
   "cell_type": "markdown",
   "metadata": {},
   "source": [
    "##### **Write** it to S3 bucket"
   ]
  },
  {
   "cell_type": "code",
   "execution_count": null,
   "metadata": {},
   "outputs": [],
   "source": [
    "import s3fs\n",
    "\n",
    "fs = s3fs.S3FileSystem()\n",
    "with fs.open('flatiorn-chicago-bucket/dc-requests2.json', 'wb') as f:\n",
    "    user_encode_data = json.dumps(cont).encode('utf-8')\n",
    "    f.write(user_encode_data)"
   ]
  },
  {
   "cell_type": "markdown",
   "metadata": {},
   "source": [
    "##### **Read** JSON from S3 bucket"
   ]
  },
  {
   "cell_type": "code",
   "execution_count": null,
   "metadata": {},
   "outputs": [],
   "source": [
    "with fs.open('flatiorn-chicago-bucket/dc-requests.json') as f:\n",
    "    f_json = f.read()\n",
    "    test_json = json.loads(f_json.decode('utf-8'))"
   ]
  },
  {
   "cell_type": "markdown",
   "metadata": {},
   "source": [
    "### Now you try!\n",
    "\n",
    "What you will need:\n",
    "- A JSON to scraped off the web\n",
    "- An AWS account\n",
    "- an S3 bucket of your choice"
   ]
  },
  {
   "cell_type": "markdown",
   "metadata": {},
   "source": [
    "#### **Tasks**:\n",
    "- read your json from the web using `requests`\n",
    "- save it to a bucket of yours\n",
    "- go check in the S3 bucket and make sure the permissions are set to public\n",
    "- Show a coach/instructor that it is indeed there in your bucket!\n",
    "- Then, read it back into this notebook from the s3 bucket\n",
    "- Explore the JSON and find where the actual data is\n",
    "- Share with the group next to you what you managed to pull into s3 and your sagemaker jupyter notebook!\n",
    "- be ready to share with the larger group if someone near you did something cool"
   ]
  }
 ],
 "metadata": {
  "kernelspec": {
   "display_name": "Python 3",
   "language": "python",
   "name": "python3"
  },
  "language_info": {
   "codemirror_mode": {
    "name": "ipython",
    "version": 3
   },
   "file_extension": ".py",
   "mimetype": "text/x-python",
   "name": "python",
   "nbconvert_exporter": "python",
   "pygments_lexer": "ipython3",
   "version": "3.7.4"
  }
 },
 "nbformat": 4,
 "nbformat_minor": 4
}
